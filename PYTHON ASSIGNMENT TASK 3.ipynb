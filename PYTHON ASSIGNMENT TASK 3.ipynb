{
 "cells": [
  {
   "cell_type": "code",
   "execution_count": null,
   "id": "3d70d182-62ae-400b-b25c-c4b1b613cb19",
   "metadata": {},
   "outputs": [],
   "source": [
    "PYTHON ASSIGNMENT -09TH FEBRUARY TASK 3"
   ]
  },
  {
   "cell_type": "code",
   "execution_count": 1,
   "id": "2e03382a-100e-4d38-b0ec-5143d85996df",
   "metadata": {},
   "outputs": [
    {
     "name": "stdin",
     "output_type": "stream",
     "text": [
      "Enter a number:  10\n"
     ]
    },
    {
     "name": "stdout",
     "output_type": "stream",
     "text": [
      "The factors of 10 are: [1, 2, 5, 10]\n"
     ]
    }
   ],
   "source": [
    "# Program to find the factors of a given number\n",
    "\n",
    "def find_factors(number):\n",
    "    factors = []\n",
    "    for i in range(1, number + 1):\n",
    "        if number % i == 0:\n",
    "            factors.append(i)\n",
    "    return factors\n",
    "\n",
    "# Input from user\n",
    "num = int(input(\"Enter a number: \"))\n",
    "\n",
    "# Output the factors\n",
    "print(f\"The factors of {num} are: {find_factors(num)}\")\n"
   ]
  },
  {
   "cell_type": "code",
   "execution_count": null,
   "id": "6d56815f-3118-4849-ae41-2df312d9c9e0",
   "metadata": {},
   "outputs": [],
   "source": [
    "2. Write a program to find whether the given number is prime or not. "
   ]
  },
  {
   "cell_type": "code",
   "execution_count": 5,
   "id": "50828b0d-1564-46aa-acad-22b5ea122d1a",
   "metadata": {},
   "outputs": [
    {
     "name": "stdin",
     "output_type": "stream",
     "text": [
      "Enter a number:  5\n"
     ]
    },
    {
     "name": "stdout",
     "output_type": "stream",
     "text": [
      "5 is a prime number.\n"
     ]
    }
   ],
   "source": [
    "# Program to check if a number is prime\n",
    "\n",
    "def is_prime(number):\n",
    "    if number <= 1:\n",
    "        return False\n",
    "    for i in range(2, int(number ** 0.5) + 1):\n",
    "        if number % i == 0:\n",
    "            return False\n",
    "    return True\n",
    "\n",
    "# Input from user\n",
    "num = int(input(\"Enter a number: \"))\n",
    "\n",
    "# Output the result\n",
    "if is_prime(num):\n",
    "    print(f\"{num} is a prime number.\")\n",
    "else:\n",
    "    print(f\"{num} is not a prime number.\")\n",
    "\n",
    "5\n"
   ]
  },
  {
   "cell_type": "code",
   "execution_count": null,
   "id": "c5a79d19-d6e3-4d3c-a978-51951504f0d7",
   "metadata": {},
   "outputs": [],
   "source": [
    "3. Write a program to find the given number is Armstrong number or not."
   ]
  },
  {
   "cell_type": "code",
   "execution_count": 7,
   "id": "2c7b8906-fe61-492a-9b3d-17f55bbc626e",
   "metadata": {},
   "outputs": [
    {
     "name": "stdin",
     "output_type": "stream",
     "text": [
      "Enter a number:  5\n"
     ]
    },
    {
     "name": "stdout",
     "output_type": "stream",
     "text": [
      "5 is an Armstrong number.\n"
     ]
    }
   ],
   "source": [
    "# Program to check if a number is an Armstrong number\n",
    "\n",
    "def is_armstrong(number):\n",
    "    num_str = str(number)\n",
    "    num_digits = len(num_str)\n",
    "    total = sum(int(digit) ** num_digits for digit in num_str)\n",
    "    return total == number\n",
    "\n",
    "# Input from user\n",
    "num = int(input(\"Enter a number: \"))\n",
    "\n",
    "# Output the result\n",
    "if is_armstrong(num):\n",
    "    print(f\"{num} is an Armstrong number.\")\n",
    "else:\n",
    "    print(f\"{num} is not an Armstrong number.\")\n",
    "5\n"
   ]
  },
  {
   "cell_type": "code",
   "execution_count": null,
   "id": "6a055ff7-cd52-402d-bf0e-0819bfa08401",
   "metadata": {},
   "outputs": [],
   "source": [
    "4. Write a program to print the Armstrong numbers between 100 to 999. "
   ]
  },
  {
   "cell_type": "code",
   "execution_count": 9,
   "id": "1d586275-99ca-4ad2-a266-873301f814f5",
   "metadata": {},
   "outputs": [
    {
     "name": "stdout",
     "output_type": "stream",
     "text": [
      "Armstrong numbers between 100 and 999 are:\n",
      "153\n",
      "370\n",
      "371\n",
      "407\n"
     ]
    }
   ],
   "source": [
    "# Program to print Armstrong numbers between 100 and 999\n",
    "\n",
    "def is_armstrong(number):\n",
    "    num_str = str(number)\n",
    "    num_digits = len(num_str)\n",
    "    total = sum(int(digit) ** num_digits for digit in num_str)\n",
    "    return total == number\n",
    "\n",
    "print(\"Armstrong numbers between 100 and 999 are:\")\n",
    "\n",
    "for num in range(100, 1000):\n",
    "    if is_armstrong(num):\n",
    "        print(num)\n"
   ]
  },
  {
   "cell_type": "code",
   "execution_count": null,
   "id": "50de743b-7260-4a82-bb22-aa4048a1269f",
   "metadata": {},
   "outputs": [],
   "source": [
    "5. Write a program to count and print the number of odd and even numbers. "
   ]
  },
  {
   "cell_type": "code",
   "execution_count": 11,
   "id": "159b92f4-fed6-4a16-bf01-9e0f0bf8f2ce",
   "metadata": {},
   "outputs": [
    {
     "name": "stdin",
     "output_type": "stream",
     "text": [
      "Enter numbers separated by spaces:  10\n"
     ]
    },
    {
     "name": "stdout",
     "output_type": "stream",
     "text": [
      "Total even numbers: 1\n",
      "Total odd numbers: 0\n"
     ]
    }
   ],
   "source": [
    "# Program to count and print the number of odd and even numbers\n",
    "\n",
    "# Input: numbers separated by space\n",
    "numbers = list(map(int, input(\"Enter numbers separated by spaces: \").split()))\n",
    "\n",
    "# Initialize counters\n",
    "even_count = 0\n",
    "odd_count = 0\n",
    "\n",
    "# Count even and odd numbers\n",
    "for num in numbers:\n",
    "    if num % 2 == 0:\n",
    "        even_count += 1\n",
    "    else:\n",
    "        odd_count += 1\n",
    "\n",
    "# Output the result\n",
    "print(f\"Total even numbers: {even_count}\")\n",
    "print(f\"Total odd numbers: {odd_count}\")\n"
   ]
  },
  {
   "cell_type": "code",
   "execution_count": null,
   "id": "5ef0487d-9777-4c44-92f7-875db6a7f81f",
   "metadata": {},
   "outputs": [],
   "source": [
    "6. Write a program to find the reverse of n digit number using While loop "
   ]
  },
  {
   "cell_type": "code",
   "execution_count": 13,
   "id": "0116d548-c1e9-4ac6-b178-38d651d64ae0",
   "metadata": {},
   "outputs": [
    {
     "name": "stdin",
     "output_type": "stream",
     "text": [
      "Enter a number:  1234\n"
     ]
    },
    {
     "name": "stdout",
     "output_type": "stream",
     "text": [
      "The reverse of 1234 is 4321\n"
     ]
    }
   ],
   "source": [
    "# Program to reverse an n-digit number using a while loop\n",
    "\n",
    "# Input from user\n",
    "num = int(input(\"Enter a number: \"))\n",
    "original_num = num  # Store original number for display\n",
    "reverse = 0\n",
    "\n",
    "# Reverse the number using while loop\n",
    "while num > 0:\n",
    "    digit = num % 10\n",
    "    reverse = reverse * 10 + digit\n",
    "    num //= 10\n",
    "\n",
    "# Output the result\n",
    "print(f\"The reverse of {original_num} is {reverse}\")\n"
   ]
  },
  {
   "cell_type": "code",
   "execution_count": null,
   "id": "8714b106-934e-420a-8ca5-daa9432df96c",
   "metadata": {},
   "outputs": [],
   "source": [
    "7. Write a program to find the binary number from given decimal number."
   ]
  },
  {
   "cell_type": "code",
   "execution_count": 15,
   "id": "77e8ab0e-564d-4597-84c1-32ec0f6c1483",
   "metadata": {},
   "outputs": [
    {
     "name": "stdin",
     "output_type": "stream",
     "text": [
      "Enter a decimal number:  10\n"
     ]
    },
    {
     "name": "stdout",
     "output_type": "stream",
     "text": [
      "The binary representation of 10 is 1010\n"
     ]
    }
   ],
   "source": [
    "# Program to convert decimal to binary\n",
    "\n",
    "# Input from user\n",
    "decimal = int(input(\"Enter a decimal number: \"))\n",
    "\n",
    "# Convert to binary using while loop\n",
    "binary = ''\n",
    "num = decimal\n",
    "\n",
    "if num == 0:\n",
    "    binary = '0'\n",
    "else:\n",
    "    while num > 0:\n",
    "        binary = str(num % 2) + binary\n",
    "        num //= 2\n",
    "\n",
    "# Output the result\n",
    "print(f\"The binary representation of {decimal} is {binary}\")\n"
   ]
  },
  {
   "cell_type": "code",
   "execution_count": null,
   "id": "33882402-968e-4679-9223-06a859ba7840",
   "metadata": {},
   "outputs": [],
   "source": [
    "8. Write a program to find the decimal number from given Binary number."
   ]
  },
  {
   "cell_type": "code",
   "execution_count": 17,
   "id": "1ad6b7cf-57ac-4156-ab23-c929d827c26f",
   "metadata": {},
   "outputs": [
    {
     "name": "stdin",
     "output_type": "stream",
     "text": [
      "Enter a binary number:  1010\n"
     ]
    },
    {
     "name": "stdout",
     "output_type": "stream",
     "text": [
      "The decimal representation of 1010 is 10\n"
     ]
    }
   ],
   "source": [
    "# Program to convert binary to decimal\n",
    "\n",
    "# Input from user\n",
    "binary = input(\"Enter a binary number: \")\n",
    "\n",
    "# Validate input\n",
    "if not all(digit in '01' for digit in binary):\n",
    "    print(\"Invalid binary number. Please enter only 0s and 1s.\")\n",
    "else:\n",
    "    decimal = 0\n",
    "    power = 0\n",
    "\n",
    "    # Convert binary to decimal using while loop logic\n",
    "    for digit in reversed(binary):\n",
    "        decimal += int(digit) * (2 ** power)\n",
    "        power += 1\n",
    "\n",
    "    # Output the result\n",
    "    print(f\"The decimal representation of {binary} is {decimal}\")\n"
   ]
  },
  {
   "cell_type": "code",
   "execution_count": null,
   "id": "4814c943-bd4d-4a7a-a748-3fb80e2dc89d",
   "metadata": {},
   "outputs": [],
   "source": [
    "9. Write a program to find the factorial of the given number. "
   ]
  },
  {
   "cell_type": "code",
   "execution_count": 19,
   "id": "a9ce6cfc-5b41-49e2-84db-2b3f06dbaac0",
   "metadata": {},
   "outputs": [
    {
     "name": "stdin",
     "output_type": "stream",
     "text": [
      "Enter a number:  5\n"
     ]
    },
    {
     "name": "stdout",
     "output_type": "stream",
     "text": [
      "The factorial of 5 is 120\n"
     ]
    }
   ],
   "source": [
    "# Program to find the factorial of a given number\n",
    "\n",
    "# Input from user\n",
    "num = int(input(\"Enter a number: \"))\n",
    "\n",
    "# Check for negative numbers\n",
    "if num < 0:\n",
    "    print(\"Factorial is not defined for negative numbers.\")\n",
    "else:\n",
    "    factorial = 1\n",
    "    i = 1\n",
    "\n",
    "    while i <= num:\n",
    "        factorial *= i\n",
    "        i += 1\n",
    "\n",
    "    # Output the result\n",
    "    print(f\"The factorial of {num} is {factorial}\")\n"
   ]
  },
  {
   "cell_type": "code",
   "execution_count": null,
   "id": "8dd91578-42c7-45b1-9e57-c9675fef210a",
   "metadata": {},
   "outputs": [],
   "source": [
    "10. Write a program to find the Fibonacci Series of the given number. "
   ]
  },
  {
   "cell_type": "code",
   "execution_count": 21,
   "id": "8bdfb0ea-7051-4cae-8029-96a286310640",
   "metadata": {},
   "outputs": [
    {
     "name": "stdin",
     "output_type": "stream",
     "text": [
      "Enter the number of terms in the Fibonacci series:  6\n"
     ]
    },
    {
     "name": "stdout",
     "output_type": "stream",
     "text": [
      "Fibonacci Series:\n",
      "0 1 1 2 3 5 "
     ]
    }
   ],
   "source": [
    "# Program to print the Fibonacci series up to n terms\n",
    "\n",
    "# Input from user\n",
    "n = int(input(\"Enter the number of terms in the Fibonacci series: \"))\n",
    "\n",
    "# Check for valid input\n",
    "if n <= 0:\n",
    "    print(\"Please enter a positive integer.\")\n",
    "else:\n",
    "    a, b = 0, 1\n",
    "    count = 0\n",
    "\n",
    "    print(\"Fibonacci Series:\")\n",
    "\n",
    "    while count < n:\n",
    "        print(a, end=' ')\n",
    "        a, b = b, a + b\n",
    "        count += 1\n"
   ]
  },
  {
   "cell_type": "code",
   "execution_count": null,
   "id": "58316286-c853-4f39-aa8a-9c65f5336f35",
   "metadata": {},
   "outputs": [],
   "source": []
  }
 ],
 "metadata": {
  "kernelspec": {
   "display_name": "Python [conda env:base] *",
   "language": "python",
   "name": "conda-base-py"
  },
  "language_info": {
   "codemirror_mode": {
    "name": "ipython",
    "version": 3
   },
   "file_extension": ".py",
   "mimetype": "text/x-python",
   "name": "python",
   "nbconvert_exporter": "python",
   "pygments_lexer": "ipython3",
   "version": "3.12.7"
  }
 },
 "nbformat": 4,
 "nbformat_minor": 5
}
